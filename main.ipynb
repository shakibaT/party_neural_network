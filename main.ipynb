{
 "cells": [
  {
   "cell_type": "markdown",
   "metadata": {},
   "source": [
    "### Generating List of Guests"
   ]
  },
  {
   "cell_type": "code",
   "execution_count": 1,
   "metadata": {},
   "outputs": [
    {
     "name": "stdout",
     "output_type": "stream",
     "text": [
      "Hossein Ebrahimi\n",
      "Maryam Hosseinzadeh\n",
      "Fatemeh Fazeli\n",
      "Hamed Niknam\n",
      "Reza Niknam\n",
      "Roya Hashemi\n",
      "Hossein Mohammadi\n",
      "Roya Rostami\n",
      "Reza Fazeli\n",
      "Zahra Rahimi\n",
      "Maryam Hosseini\n",
      "Sara Mohammadi\n",
      "Maryam Fazeli\n",
      "Zahra Moradi\n",
      "Narges Fazeli\n",
      "Hamed Hosseinzadeh\n",
      "Reza Hosseinzadeh\n",
      "Maryam Niknam\n",
      "Hossein Rostami\n",
      "Narges Ahmadi\n",
      "Zahra Ebrahimi\n",
      "Hossein Hosseinzadeh\n",
      "Fatemeh Moradi\n",
      "Zahra Hosseinzadeh\n"
     ]
    }
   ],
   "source": [
    "# generating random names\n",
    "\n",
    "import random\n",
    "\n",
    "first_names = [\"Ali\", \"Zahra\", \"Reza\", \"Sara\", \"Mohammad\", \"Fatemeh\", \"Hossein\", \"Maryam\", \"Mehdi\", \"Narges\", \"Hamed\", \"Roya\"]\n",
    "last_names = [\"Ahmadi\", \"Hosseini\", \"Karimi\", \"Rahimi\", \"Hashemi\", \"Ebrahimi\", \"Moradi\", \"Mohammadi\", \"Rostami\", \"Fazeli\", \"Hosseinzadeh\", \"Niknam\"]\n",
    "def generate_random_names(first_names, last_names, n):\n",
    "    random_names = []\n",
    "    while len(random_names) < 24:\n",
    "        first_name = random.choice(first_names)\n",
    "        last_name = random.choice(last_names)\n",
    "        if not f\"{first_name} {last_name}\" in random_names:\n",
    "            random_names.append(f\"{first_name} {last_name}\")\n",
    "    return random_names\n",
    "\n",
    "random_names = generate_random_names(first_names, last_names, 24)\n",
    "\n",
    "for name in random_names:\n",
    "    print(name)"
   ]
  },
  {
   "cell_type": "markdown",
   "metadata": {},
   "source": [
    "### Generating random conflict binary matrix and conflict pairs"
   ]
  },
  {
   "cell_type": "code",
   "execution_count": 28,
   "metadata": {},
   "outputs": [
    {
     "name": "stdout",
     "output_type": "stream",
     "text": [
      "[[0 0 0 0 0 0 0 0 0 0 0 0 0 0 0 0 0 0 0 0 0 0 0 0]\n",
      " [0 0 0 0 0 1 0 0 0 0 0 0 0 0 0 0 0 1 0 0 0 0 0 0]\n",
      " [0 0 0 0 0 0 0 0 0 0 0 0 0 0 0 0 0 0 0 0 0 1 0 0]\n",
      " [0 0 0 0 0 0 0 0 1 0 0 0 0 1 0 0 0 0 1 0 0 0 1 0]\n",
      " [0 0 0 0 0 0 0 0 0 0 0 0 0 0 0 0 0 0 0 0 0 0 0 0]\n",
      " [0 0 1 0 0 0 0 0 0 1 0 0 1 0 0 0 0 0 0 0 0 0 1 0]\n",
      " [0 1 0 0 0 0 0 0 0 0 0 0 0 0 1 0 1 0 0 1 0 0 0 0]\n",
      " [0 0 0 0 0 0 0 0 0 1 0 0 0 0 0 0 1 0 0 0 0 0 0 0]\n",
      " [0 0 0 0 0 0 0 0 0 0 0 0 0 0 0 0 1 0 0 0 0 0 1 0]\n",
      " [1 0 0 0 0 0 0 1 0 0 0 0 0 0 0 0 0 0 0 0 0 0 0 0]\n",
      " [0 0 0 0 0 0 0 0 0 0 0 0 0 0 0 0 0 0 0 0 0 0 0 0]\n",
      " [0 0 0 0 0 0 0 0 0 0 0 0 0 0 1 0 0 0 0 0 0 0 0 1]\n",
      " [0 0 0 1 0 0 0 0 0 0 0 0 0 0 0 0 0 0 0 0 0 0 0 0]\n",
      " [0 0 0 0 0 0 0 0 0 0 0 0 1 0 0 0 0 0 0 0 0 0 0 1]\n",
      " [0 0 0 0 0 0 0 0 0 0 0 0 0 0 0 0 0 0 0 0 0 0 0 0]\n",
      " [0 0 0 0 0 0 0 0 0 0 0 0 0 0 0 0 0 1 0 0 0 0 0 0]\n",
      " [0 0 0 0 0 0 0 0 0 0 0 0 0 0 0 0 0 0 0 0 0 1 0 0]\n",
      " [0 0 0 0 1 0 1 0 0 0 0 0 0 0 0 0 0 0 0 0 0 0 0 0]\n",
      " [0 0 0 0 0 0 0 0 0 0 0 0 0 0 0 0 0 0 0 0 0 0 0 0]\n",
      " [0 0 0 0 0 0 0 0 0 0 0 0 0 1 0 0 0 0 0 0 1 0 0 0]\n",
      " [0 0 0 0 0 1 1 0 0 1 0 0 0 0 0 0 0 0 0 0 0 0 0 0]\n",
      " [0 0 0 0 0 0 0 0 1 0 0 0 0 0 0 1 0 0 0 0 0 0 0 0]\n",
      " [0 0 0 0 0 0 1 0 0 1 0 0 0 0 0 0 0 0 0 0 0 0 0 0]\n",
      " [0 0 0 0 0 0 0 0 0 0 0 0 0 0 0 0 0 0 0 0 0 0 1 0]]\n",
      "[(6, 16), (17, 4), (19, 13), (17, 6), (3, 22), (2, 21), (5, 9), (16, 21), (21, 8), (9, 0), (12, 3), (23, 22), (5, 12), (3, 13), (13, 23), (8, 16), (22, 6), (20, 9), (6, 1), (20, 5), (1, 5), (20, 6), (19, 20), (9, 7), (3, 8), (6, 19), (8, 22), (6, 14), (11, 23), (22, 9), (21, 15), (5, 2), (5, 22), (7, 9), (1, 17), (13, 12), (7, 16), (3, 18), (15, 17), (11, 14)]\n"
     ]
    }
   ],
   "source": [
    "# generating random conflict binary matrix\n",
    "\n",
    "import numpy as np\n",
    "\n",
    "def generate_random_binary_matrix(size, num_ones):\n",
    "    matrix = np.zeros((size, size), dtype=int)\n",
    "    conflict_pairs = []\n",
    "    possible_positions = [(i, j) for i in range(size) for j in range(size) if i != j]\n",
    "    \n",
    "    ones_positions = np.random.choice(len(possible_positions), num_ones, replace=False)\n",
    "    \n",
    "    for pos in ones_positions:\n",
    "        i, j = possible_positions[pos]\n",
    "        conflict_pairs.append((i, j))\n",
    "        matrix[i, j] = 1\n",
    "    \n",
    "    return matrix, conflict_pairs\n",
    "\n",
    "size = 24\n",
    "num_ones = 40\n",
    "\n",
    "conflict_matrix, conflict_pairs = generate_random_binary_matrix(size, num_ones)\n",
    "\n",
    "print(conflict_matrix)\n",
    "print(conflict_pairs)"
   ]
  },
  {
   "cell_type": "markdown",
   "metadata": {},
   "source": [
    "### Suitable Arrangement: Deterministic approach"
   ]
  },
  {
   "cell_type": "code",
   "execution_count": 30,
   "metadata": {},
   "outputs": [
    {
     "name": "stdout",
     "output_type": "stream",
     "text": [
      "{0: {9}, 1: {17, 5, 6}, 2: {5, 21}, 3: {8, 12, 13, 18, 22}, 4: {17}, 5: {1, 2, 9, 12, 20, 22}, 6: {1, 14, 16, 17, 19, 20, 22}, 7: {16, 9}, 8: {16, 3, 21, 22}, 9: {0, 5, 7, 20, 22}, 10: set(), 11: {14, 23}, 12: {13, 3, 5}, 13: {3, 19, 12, 23}, 14: {11, 6}, 15: {17, 21}, 16: {8, 21, 6, 7}, 17: {1, 4, 6, 15}, 18: {3}, 19: {20, 13, 6}, 20: {9, 19, 5, 6}, 21: {16, 8, 2, 15}, 22: {3, 5, 6, 8, 9, 23}, 23: {11, 13, 22}}\n",
      "Conflict between 6 and 20 at (0, 0)\n",
      "Conflict between 5 and 9 at (0, 3)\n",
      "Conflict between 5 and 22 at (1, 1)\n",
      "Conflict between 17 and 4 at (0, 2)\n",
      "Conflict between 6 and 22 at (1, 1)\n",
      "Conflict between 17 and 6 at (1, 3)\n",
      "Conflict between 21 and 15 at (1, 5)\n",
      "Conflict between 3 and 22 at (3, 0)\n",
      "Seating arrangement found.[[20, 0, 4, 9, 19, 2], [11, 22, 10, 6, 8, 15], [18, 1, 18, 18, 2, 6], [22, 20, 16, 2, 16, 11]]\n",
      "***Seating Arrangement***\n",
      "[20, 0, 4, 9, 19, 2]\n",
      "[11, 22, 10, 6, 8, 15]\n",
      "[18, 1, 18, 18, 2, 6]\n",
      "[22, 20, 16, 2, 16, 11]\n"
     ]
    }
   ],
   "source": [
    "import random\n",
    "\n",
    "# Checks if placing a guest at a specific position does not create conflicts with adjacent seats.\n",
    "def is_safe(seating, row, col, guest, conflicts, rows, cols):\n",
    "    directions = [(-1, 0), (1, 0), (0, -1), (0, 1)]\n",
    "    for dr, dc in directions:\n",
    "        new_row, new_col = row + dr, col + dc\n",
    "        if 0 <= new_row < rows and 0 <= new_col < cols:\n",
    "            if seating[new_row][new_col] in conflicts[guest]:\n",
    "                print(f\"Conflict between {guest} and {seating[new_row][new_col]} at ({new_row}, {new_col})\")\n",
    "                return False\n",
    "    return True\n",
    "\n",
    "\n",
    "# Recursively attempts to place guests in seats.\n",
    "# Uses backtracking to ensure constraints are met.\n",
    "# Shuffles the guests to provide a random assignment and potentially find a valid solution quicker.\n",
    "def solve_seating(seating, guests, conflicts, row, col, rows, cols):\n",
    "    if row == rows:\n",
    "        return True\n",
    "    if col == cols:\n",
    "        return solve_seating(seating, guests, conflicts, row + 1, 0, rows, cols)\n",
    "\n",
    "    random.shuffle(guests)  # Shuffle guests to get a random assignment\n",
    "    for guest in guests:\n",
    "        if is_safe(seating, row, col, guest, conflicts, rows, cols):\n",
    "            seating[row][col] = guest\n",
    "            if solve_seating(seating, guests, conflicts, row, col + 1, rows, cols):\n",
    "                return True\n",
    "            \n",
    "    seating[row][col] = None\n",
    "    return False\n",
    "\n",
    "\n",
    "# Initializes the seating grid and the conflicts dictionary.\n",
    "# Calls solve_seating to find a valid seating arrangement.\n",
    "def arrange_seating(guests, conflict_pairs, rows, cols):\n",
    "    seating = [[None for _ in range(cols)] for _ in range(rows)]\n",
    "    conflicts = {guest: set() for guest in guests}\n",
    "    for g1, g2 in conflict_pairs:\n",
    "        conflicts[g1].add(g2)\n",
    "        conflicts[g2].add(g1)\n",
    "    print(conflicts)\n",
    "    if solve_seating(seating, guests, conflicts, 0, 0, rows, cols):\n",
    "        print(f\"Seating arrangement found.{seating}\")\n",
    "        return seating\n",
    "    else:\n",
    "        return None\n",
    "\n",
    "# Example usage\n",
    "guests = list(range(0, 24))  # Guests labeled 0 to 23\n",
    "\n",
    "rows, cols = 4, 6\n",
    "seating_arrangement = arrange_seating(guests, conflict_pairs, rows, cols)\n",
    "\n",
    "print(\"***Seating Arrangement***\")\n",
    "if seating_arrangement:\n",
    "    for row in seating_arrangement:\n",
    "        print(row)\n",
    "else:\n",
    "    print(\"No valid seating arrangement found.\")\n"
   ]
  },
  {
   "cell_type": "code",
   "execution_count": null,
   "metadata": {},
   "outputs": [],
   "source": []
  }
 ],
 "metadata": {
  "kernelspec": {
   "display_name": "chat_gpt",
   "language": "python",
   "name": "python3"
  },
  "language_info": {
   "codemirror_mode": {
    "name": "ipython",
    "version": 3
   },
   "file_extension": ".py",
   "mimetype": "text/x-python",
   "name": "python",
   "nbconvert_exporter": "python",
   "pygments_lexer": "ipython3",
   "version": "3.11.9"
  }
 },
 "nbformat": 4,
 "nbformat_minor": 2
}
